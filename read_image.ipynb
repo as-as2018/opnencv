{
 "cells": [
  {
   "cell_type": "markdown",
   "metadata": {},
   "source": [
    "#Read and Show Image"
   ]
  },
  {
   "cell_type": "code",
   "execution_count": null,
   "metadata": {},
   "outputs": [
    {
     "name": "stdout",
     "output_type": "stream",
     "text": [
      "(360, 540, 3)\n",
      "(360, 540)\n",
      "[[[218 196 118]\n",
      "  [219 197 119]\n",
      "  [220 198 120]\n",
      "  ...\n",
      "  [240 226 177]\n",
      "  [240 226 177]\n",
      "  [240 226 177]]\n",
      "\n",
      " [[218 196 118]\n",
      "  [219 197 119]\n",
      "  [220 198 120]\n",
      "  ...\n",
      "  [240 226 177]\n",
      "  [240 226 177]\n",
      "  [240 226 177]]\n",
      "\n",
      " [[219 197 119]\n",
      "  [219 197 119]\n",
      "  [220 198 120]\n",
      "  ...\n",
      "  [241 227 178]\n",
      "  [241 227 178]\n",
      "  [241 227 178]]\n",
      "\n",
      " ...\n",
      "\n",
      " [[181 153  42]\n",
      "  [181 153  42]\n",
      "  [181 153  42]\n",
      "  ...\n",
      "  [221 201 114]\n",
      "  [221 201 114]\n",
      "  [221 201 114]]\n",
      "\n",
      " [[181 153  42]\n",
      "  [181 153  42]\n",
      "  [181 153  42]\n",
      "  ...\n",
      "  [220 200 113]\n",
      "  [220 200 113]\n",
      "  [220 200 113]]\n",
      "\n",
      " [[180 152  41]\n",
      "  [180 152  41]\n",
      "  [181 153  42]\n",
      "  ...\n",
      "  [219 199 112]\n",
      "  [219 199 112]\n",
      "  [219 199 112]]]\n",
      "[[175 176 177 ... 213 213 213]\n",
      " [175 176 177 ... 213 213 213]\n",
      " [176 176 177 ... 214 214 214]\n",
      " ...\n",
      " [123 123 123 ... 177 177 177]\n",
      " [123 123 123 ... 176 176 176]\n",
      " [122 122 123 ... 175 175 175]]\n"
     ]
    }
   ],
   "source": [
    "# Read Image, print shape, apply color map, and display image.\n",
    "\n",
    "import cv2\n",
    "\n",
    "img1=cv2.imread('files/1.jpg') # read the image\n",
    "img2=cv2.imread('files/1.jpg',0) # read the image\n",
    "img3=cv2.imread('files/1.jpg',-1) # read the image\n",
    "cimg=cv2.applyColorMap(img3,0)\n",
    "print(img1.shape) #print size of the image height=360 width=540 color channel=3 (RGB)\n",
    "print(img2.shape) #print size of the image height=408 width=612 color channel=3 (RGB)\n",
    "print(img1) #print the color of image  in array form\n",
    "print(img2) #print the color of image  in array form\n",
    "cv2.imshow('image1',img1) # display the image\n",
    "cv2.imshow('image2',img2) # display the image\n",
    "cv2.imshow('image3',img3) # display the image\n",
    "cv2.imshow('cimg',cimg) # display the image\n",
    "cv2.waitKey(0) # # image frame wait time - ms and 0 pass keyboard any key press\n",
    "cv2.destroyAllWindows() # close all windows\n",
    "# cv2.destroyWindow('image1')\n"
   ]
  },
  {
   "cell_type": "code",
   "execution_count": null,
   "metadata": {},
   "outputs": [],
   "source": [
    "#Display images with combined(Horizontally or vertically)\n",
    "\n",
    "import cv2\n",
    "import numpy as np\n",
    "\n",
    "img1=cv2.imread('files/1.jpg') # read the image\n",
    "img2=cv2.imread('files/2.jpg') # read the image\n",
    "re_img1=cv2.resize(img1,(700,500)) # resize the image w=700 h=500\n",
    "re_img2=cv2.resize(img2,(700,500)) # resize the image w=700 h=500\n",
    "horizontal_image=np.hstack((re_img1,re_img2))\n",
    "verticale_image=np.vstack((re_img1,re_img2))\n",
    "cv2.imshow('img1',img1) # display combined image horizontally\n",
    "cv2.imshow('img2',img2) # display combined image horizontally\n",
    "cv2.imshow('horizontal_image',horizontal_image) # display combined image horizontally\n",
    "cv2.imshow('verticale_image',verticale_image) #  display combined image vertically\n",
    "cv2.waitKey(1000) # # image frame wait time - ms and 0 pass keyboard any key press\n",
    "cv2.destroyAllWindows() # close all windows\n",
    "# cv2.destroyWindow('image1')\n"
   ]
  },
  {
   "cell_type": "code",
   "execution_count": null,
   "metadata": {},
   "outputs": [
    {
     "name": "stdout",
     "output_type": "stream",
     "text": [
      "['1.jpg', '2.jpg']\n"
     ]
    }
   ],
   "source": [
    "#Image slide show\n",
    "\n",
    "import cv2\n",
    "import os\n",
    "\n",
    "image_list=os.listdir('files')\n",
    "print(image_list)\n",
    "for img in image_list:\n",
    "    path='files/'\n",
    "    image=cv2.imread(path+img)\n",
    "    cv2.imshow(img,image)\n",
    "    cv2.waitKey(1000) # # image frame wait time - ms and 0 pass keyboard any key press\n",
    "    cv2.destroyAllWindows() # close all windows "
   ]
  },
  {
   "cell_type": "code",
   "execution_count": null,
   "metadata": {},
   "outputs": [],
   "source": [
    "#Draw Line in image:\n",
    "    # LineType :\n",
    "    # FILLED\n",
    "    # LINE 4 4\n",
    "    # LINE 8 8\n",
    "    # LINE-AA 16\n",
    "\n",
    "\n",
    "import cv2\n",
    "import numpy as np\n",
    "\n",
    "img1=cv2.imread('files/1.jpg') # read the image\n",
    "linedImage=cv2.line(img=img1,pt1=(240,100),pt2=(310,100),color=(0,255,0),thickness=4,lineType=4)\n",
    "cv2.imshow('linedImage',linedImage) #  display combined image vertically\n",
    "cv2.waitKey(0) # # image frame wait time - ms and 0 pass keyboard any key press\n",
    "cv2.destroyAllWindows() # close all windows\n",
    "# cv2.destroyWindow('image1')"
   ]
  },
  {
   "cell_type": "code",
   "execution_count": 3,
   "metadata": {},
   "outputs": [],
   "source": [
    "# Draw rectangle in image\n",
    "\n",
    "\n",
    "import cv2\n",
    "import numpy as np\n",
    "\n",
    "img1=cv2.imread('files/1.jpg') # read the image\n",
    "linedImage=cv2.rectangle(img=img1,pt1=(240,50),pt2=(310,140),color=(0,255,0),thickness=4,lineType=4)\n",
    "textedImage=cv2.putText( img=linedImage,text='Face',org=(240,45),fontFace=2,fontScale=1,color=(0,0,255),thickness=1,lineType=16,bottomLeftOrigin=False)\n",
    "cv2.imshow('linedImage',linedImage) #  display combined image vertically\n",
    "cv2.waitKey(0) # # image frame wait time - ms and 0 pass keyboard any key press\n",
    "cv2.destroyAllWindows() # close all windows\n",
    "# cv2.destroyWindow('image1')"
   ]
  },
  {
   "cell_type": "code",
   "execution_count": 24,
   "metadata": {},
   "outputs": [],
   "source": [
    "\n",
    "\n",
    "# Draw cirle & ellipse in image\n",
    "import cv2\n",
    "import numpy as np\n",
    "\n",
    "img1=cv2.imread('files/1.jpg') # read the image\n",
    "cirledImage=cv2.circle(img=img1,center=(270,85), radius=50,color=(0,255,0),thickness=4,lineType=4)\n",
    "ellipseImage= cv2.ellipse(img=img1, center=(270,85), axes=(50,70), angle=30, startAngle=0, endAngle=360, color=(0,255,0), thickness=-1, lineType=16)\n",
    "textedImage=cv2.putText( img=cirledImage,text='Face',org=(240,45),fontFace=2,fontScale=1,color=(0,0,255),thickness=1,lineType=16,bottomLeftOrigin=False)\n",
    "cv2.imshow('cirledImage',cirledImage) #  display combined image vertically\n",
    "cv2.waitKey(0) # # image frame wait time - ms and 0 pass keyboard any key press\n",
    "cv2.destroyAllWindows() # close all windows\n",
    "# cv2.destroyWindow('image1')"
   ]
  },
  {
   "cell_type": "code",
   "execution_count": 1,
   "metadata": {},
   "outputs": [],
   "source": [
    "\n",
    "\n",
    "# Draw polygon in image\n",
    "import cv2\n",
    "import numpy as np\n",
    "\n",
    "img1=cv2.imread('files/1.jpg') # read the image\n",
    "\n",
    "polyImage=cv2.polylines(\n",
    "    img=img1, \n",
    "    pts=[np.array([[25, 70], [25, 160],[110, 200], [200, 160],[200, 70], [110, 20]])], \n",
    "    isClosed=True,\n",
    "    color=(0,255,0), \n",
    "    thickness=4,\n",
    "    lineType=16\n",
    "    )\n",
    "cv2.imshow('polyImage',polyImage) #  display combined image vertically\n",
    "cv2.waitKey(0) # # image frame wait time - ms and 0 pass keyboard any key press\n",
    "cv2.destroyAllWindows() # close all windows\n",
    "# cv2.destroyWindow('image1')"
   ]
  }
 ],
 "metadata": {
  "kernelspec": {
   "display_name": ".envbox",
   "language": "python",
   "name": "python3"
  },
  "language_info": {
   "codemirror_mode": {
    "name": "ipython",
    "version": 3
   },
   "file_extension": ".py",
   "mimetype": "text/x-python",
   "name": "python",
   "nbconvert_exporter": "python",
   "pygments_lexer": "ipython3",
   "version": "3.12.6"
  }
 },
 "nbformat": 4,
 "nbformat_minor": 4
}
